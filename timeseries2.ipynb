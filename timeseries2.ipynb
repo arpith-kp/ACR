{
 "cells": [
  {
   "cell_type": "code",
   "execution_count": 10,
   "metadata": {},
   "outputs": [],
   "source": [
    "import tensorflow as tf\n",
    "import pandas as pd\n",
    "import numpy as np\n",
    "import os\n",
    "import matplotlib\n",
    "import matplotlib.pyplot as plt\n",
    "import random\n",
    "%matplotlib inline\n",
    "import tensorflow as tf\n",
    "import shutil\n",
    "import tensorflow.contrib.learn as tflearn\n",
    "import tensorflow.contrib.layers as tflayers\n",
    "from tensorflow.contrib.learn.python.learn import learn_runner\n",
    "import tensorflow.contrib.metrics as metrics\n",
    "import tensorflow.contrib.rnn as rnn\n",
    "import scipy.stats as ss"
   ]
  },
  {
   "cell_type": "code",
   "execution_count": 24,
   "metadata": {},
   "outputs": [
    {
     "data": {
      "image/png": "[encoded data removed]"
     },
     "output_type": "display_data",
     "metadata": {}
    },
    {
     "data": {
      "text/plain": [
       "2017-01-01     16.654814\n",
       "2017-01-02     35.796999\n",
       "2017-01-03     51.816052\n",
       "2017-01-04     61.898748\n",
       "2017-01-05     78.904499\n",
       "2017-01-06     93.971634\n",
       "2017-01-07    104.707716\n",
       "2017-01-08    122.346320\n",
       "2017-01-09    132.678542\n",
       "2017-01-10    144.566507\n",
       "Freq: D, dtype: float64"
      ]
     },
     "execution_count": 24,
     "output_type": "execute_result",
     "metadata": {}
    }
   ],
   "source": [
    "random.seed(111)\n",
    "rng = rng = pd.date_range(start='2017-01-01', end='2017-01-21', freq='D')\n",
    "ts = pd.Series(np.random.uniform(10, 20, size=len(rng)), rng).cumsum()\n",
    "\n",
    "z = np.arange(-100, 100)\n",
    "xU, xL = z + 0.5, z - 0.5 \n",
    "prob = ss.norm.cdf(xU, scale = 3) - ss.norm.cdf(xL, scale = 3)\n",
    "prob = prob / prob.sum() #normalize the probabilities so their sum is 1\n",
    "nums = np.random.choice(z, size = len(rng), p = prob)\n",
    "ts2 = pd.Series(np.random.choice(z, size = len(rng), p = prob), rng).cumsum()\n",
    "\n",
    "plt.plot(ts, c='b', label='b')\n",
    "plt.plot(ts2, c='r',label='a')\n",
    "\n",
    "plt.show()"
   ]
  },
  {
   "cell_type": "code",
   "execution_count": 19,
   "metadata": {},
   "outputs": [],
   "source": [
    "TS = np.array(ts)\n",
    "TS2 = np.array(ts2)\n",
    "num_periods = 20\n",
    "f_horizon = 1  #forecast horizon, one period into the future\n",
    "\n",
    "x_data = TS[:(len(TS)-(len(TS) % num_periods))]\n",
    "x_batches = x_data.reshape(-1, 20, 1)\n",
    "\n",
    "y_data = TS[1:(len(TS)-(len(TS) % num_periods))+f_horizon]\n",
    "y_batches = y_data.reshape(-1, 20, 1)"
   ]
  },
  {
   "cell_type": "code",
   "execution_count": 25,
   "metadata": {},
   "outputs": [],
   "source": [
    "def test_data(series,forecast,num_periods):\n",
    "    test_x_setup = TS[-(num_periods + forecast):]\n",
    "    testX = test_x_setup[:num_periods].reshape(-1, 20, 1)\n",
    "    testY = TS[-(num_periods):].reshape(-1, 20, 1)\n",
    "    return testX,testY\n",
    "\n",
    "def test_data_2(series,forecast,num_periods):\n",
    "    test_x_setup = TS2[-(num_periods + forecast):]\n",
    "    testX = test_x_setup[:num_periods].reshape(-1, 20, 1)\n",
    "    testY = TS2[-(num_periods):].reshape(-1, 20, 1)\n",
    "    return testX,testY\n",
    "\n",
    "_, Y_test = test_data(TS,f_horizon,num_periods )\n",
    "X_test, _ = test_data_2(TS2,f_horizon,num_periods )"
   ]
  },
  {
   "cell_type": "code",
   "execution_count": 6,
   "metadata": {},
   "outputs": [],
   "source": [
    "tf.reset_default_graph()   #We didn't have any previous graph objects running, but this would reset the graphs\n",
    "\n",
    "num_periods = 20      #number of periods per vector we are using to predict one period ahead\n",
    "inputs = 1            #number of vectors submitted\n",
    "hidden = 100          #number of neurons we will recursively work through, can be changed to improve accuracy\n",
    "output = 1            #number of output vectors\n",
    "\n",
    "X = tf.placeholder(tf.float32, [None, num_periods, inputs])   #create variable objects\n",
    "y = tf.placeholder(tf.float32, [None, num_periods, output])\n",
    "\n",
    "\n",
    "basic_cell = tf.contrib.rnn.BasicRNNCell(num_units=hidden, activation=tf.nn.relu)   #create our RNN object\n",
    "rnn_output, states = tf.nn.dynamic_rnn(basic_cell, X, dtype=tf.float32)               #choose dynamic over static\n",
    "\n",
    "learning_rate = 0.001   #small learning rate so we don't overshoot the minimum\n",
    "\n",
    "stacked_rnn_output = tf.reshape(rnn_output, [-1, hidden])           #change the form into a tensor\n",
    "stacked_outputs = tf.layers.dense(stacked_rnn_output, output)        #specify the type of layer (dense)\n",
    "outputs = tf.reshape(stacked_outputs, [-1, num_periods, output])          #shape of results\n",
    " \n",
    "loss = tf.reduce_sum(tf.square(outputs - y))    #define the cost function which evaluates the quality of our model\n",
    "optimizer = tf.train.AdamOptimizer(learning_rate=learning_rate)          #gradient descent method\n",
    "training_op = optimizer.minimize(loss)          #train the result of the application of the cost_function                                 \n",
    "\n",
    "init = tf.global_variables_initializer()           #initialize all the variables"
   ]
  },
  {
   "cell_type": "code",
   "execution_count": 26,
   "metadata": {},
   "outputs": [
    {
     "name": "stdout",
     "output_type": "stream",
     "text": [
      "(0, '\\tMSE:', 1255041.9)\n",
      "(100, '\\tMSE:', 3492.3643)\n",
      "(200, '\\tMSE:', 2108.1433)\n",
      "(300, '\\tMSE:', 1435.4033)\n",
      "(400, '\\tMSE:', 1031.5713)\n",
      "(500, '\\tMSE:', 818.41602)\n",
      "(600, '\\tMSE:', 668.69421)\n",
      "(700, '\\tMSE:', 580.5351)\n",
      "(800, '\\tMSE:', 517.08997)\n",
      "(900, '\\tMSE:', 470.04605)\n"
     ]
    }
   ],
   "source": [
    "epochs = 1000     #number of iterations or training cycles, includes both the FeedFoward and Backpropogatione\n",
    "with tf.Session() as sess:\n",
    "    init.run()\n",
    "    for ep in range(epochs):\n",
    "        sess.run(training_op, feed_dict={X: x_batches, y: y_batches})\n",
    "        if ep % 100 == 0:\n",
    "            mse = loss.eval(feed_dict={X: x_batches, y: y_batches})\n",
    "            print(ep, \"\\tMSE:\", mse)\n",
    "    \n",
    "    y_pred = sess.run(outputs, feed_dict={X: X_test})"
   ]
  },
  {
   "cell_type": "code",
   "execution_count": 27,
   "metadata": {},
   "outputs": [
    {
     "data": {
      "image/png": "[encoded data removed]"
     },
     "output_type": "display_data",
     "metadata": {}
    }
   ],
   "source": [
    "plt.title(\"Forecast vs Actual\", fontsize=14)\n",
    "plt.plot(pd.Series(np.ravel(Y_test)), \"bo\", markersize=10, label=\"Actual\")\n",
    "#plt.plot(pd.Series(np.ravel(Y_test)), \"w*\", markersize=10)\n",
    "plt.plot(pd.Series(np.ravel(y_pred)), \"r.\", markersize=10, label=\"Forecast\")\n",
    "plt.legend(loc=\"upper left\")\n",
    "plt.xlabel(\"Time Periods\")\n",
    "\n",
    "plt.show()"
   ]
  },
  {
   "cell_type": "code",
   "execution_count": 31,
   "metadata": {},
   "outputs": [
    {
     "name": "stdout",
     "output_type": "stream",
     "text": [
      "(0.8806164676733742, 3.010198608565851e-07)\n"
     ]
    }
   ],
   "source": [
    "df1 = pd.DataFrame({'x':pd.Series(np.ravel(Y_test))})\n",
    "df2=  pd.DataFrame({'y':pd.Series(np.ravel(y_pred))})\n",
    "print ss.pearsonr(df1['x'], df2['y'])"
   ]
  },
  {
   "cell_type": "code",
   "execution_count": null,
   "metadata": {},
   "outputs": [],
   "source": [
    ""
   ]
  }
 ],
 "metadata": {
  "kernelspec": {
   "display_name": "Python 2",
   "language": "python",
   "name": "python2"
  },
  "language_info": {
   "codemirror_mode": {
    "name": "ipython",
    "version": 2.0
   },
   "file_extension": ".py",
   "mimetype": "text/x-python",
   "name": "python",
   "nbconvert_exporter": "python",
   "pygments_lexer": "ipython2",
   "version": "2.7.10"
  }
 },
 "nbformat": 4,
 "nbformat_minor": 2
}